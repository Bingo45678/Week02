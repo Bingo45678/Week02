{
 "cells": [
  {
   "cell_type": "code",
   "execution_count": 58,
   "id": "70334a4b",
   "metadata": {},
   "outputs": [],
   "source": [
    "import pandas as pd\n",
    "import numpy as np\n",
    "import matplotlib.pyplot as plt"
   ]
  },
  {
   "cell_type": "code",
   "execution_count": null,
   "id": "e3bf1965",
   "metadata": {},
   "outputs": [],
   "source": [
    "#Exercises (DIY) - Part 1"
   ]
  },
  {
   "cell_type": "code",
   "execution_count": 59,
   "id": "16fa25f2",
   "metadata": {},
   "outputs": [
    {
     "data": {
      "text/html": [
       "<div>\n",
       "<style scoped>\n",
       "    .dataframe tbody tr th:only-of-type {\n",
       "        vertical-align: middle;\n",
       "    }\n",
       "\n",
       "    .dataframe tbody tr th {\n",
       "        vertical-align: top;\n",
       "    }\n",
       "\n",
       "    .dataframe thead th {\n",
       "        text-align: right;\n",
       "    }\n",
       "</style>\n",
       "<table border=\"1\" class=\"dataframe\">\n",
       "  <thead>\n",
       "    <tr style=\"text-align: right;\">\n",
       "      <th></th>\n",
       "      <th>PassengerId</th>\n",
       "      <th>Survived</th>\n",
       "      <th>Pclass</th>\n",
       "      <th>Name</th>\n",
       "      <th>Sex</th>\n",
       "      <th>Age</th>\n",
       "      <th>TicketType</th>\n",
       "    </tr>\n",
       "  </thead>\n",
       "  <tbody>\n",
       "    <tr>\n",
       "      <th>0</th>\n",
       "      <td>1</td>\n",
       "      <td>0</td>\n",
       "      <td>3</td>\n",
       "      <td>Braund, Mr. Owen Harris</td>\n",
       "      <td>male</td>\n",
       "      <td>22.0</td>\n",
       "      <td>1</td>\n",
       "    </tr>\n",
       "    <tr>\n",
       "      <th>1</th>\n",
       "      <td>2</td>\n",
       "      <td>1</td>\n",
       "      <td>1</td>\n",
       "      <td>Cumings, Mrs. John Bradley (Florence Briggs Th...</td>\n",
       "      <td>female</td>\n",
       "      <td>38.0</td>\n",
       "      <td>2</td>\n",
       "    </tr>\n",
       "    <tr>\n",
       "      <th>2</th>\n",
       "      <td>3</td>\n",
       "      <td>1</td>\n",
       "      <td>3</td>\n",
       "      <td>Heikkinen, Miss. Laina</td>\n",
       "      <td>female</td>\n",
       "      <td>26.0</td>\n",
       "      <td>3</td>\n",
       "    </tr>\n",
       "    <tr>\n",
       "      <th>3</th>\n",
       "      <td>4</td>\n",
       "      <td>1</td>\n",
       "      <td>1</td>\n",
       "      <td>Futrelle, Mrs. Jacques Heath (Lily May Peel)</td>\n",
       "      <td>female</td>\n",
       "      <td>35.0</td>\n",
       "      <td>4</td>\n",
       "    </tr>\n",
       "    <tr>\n",
       "      <th>4</th>\n",
       "      <td>5</td>\n",
       "      <td>0</td>\n",
       "      <td>3</td>\n",
       "      <td>Allen, Mr. William Henry</td>\n",
       "      <td>male</td>\n",
       "      <td>35.0</td>\n",
       "      <td>5</td>\n",
       "    </tr>\n",
       "  </tbody>\n",
       "</table>\n",
       "</div>"
      ],
      "text/plain": [
       "   PassengerId  Survived  Pclass  \\\n",
       "0            1         0       3   \n",
       "1            2         1       1   \n",
       "2            3         1       3   \n",
       "3            4         1       1   \n",
       "4            5         0       3   \n",
       "\n",
       "                                                Name     Sex   Age  TicketType  \n",
       "0                            Braund, Mr. Owen Harris    male  22.0           1  \n",
       "1  Cumings, Mrs. John Bradley (Florence Briggs Th...  female  38.0           2  \n",
       "2                             Heikkinen, Miss. Laina  female  26.0           3  \n",
       "3       Futrelle, Mrs. Jacques Heath (Lily May Peel)  female  35.0           4  \n",
       "4                           Allen, Mr. William Henry    male  35.0           5  "
      ]
     },
     "execution_count": 59,
     "metadata": {},
     "output_type": "execute_result"
    }
   ],
   "source": [
    "df1 = pd.read_csv('passengerData.csv')\n",
    "df1.head(5)"
   ]
  },
  {
   "cell_type": "code",
   "execution_count": 60,
   "id": "97a5c64e",
   "metadata": {},
   "outputs": [
    {
     "data": {
      "text/html": [
       "<div>\n",
       "<style scoped>\n",
       "    .dataframe tbody tr th:only-of-type {\n",
       "        vertical-align: middle;\n",
       "    }\n",
       "\n",
       "    .dataframe tbody tr th {\n",
       "        vertical-align: top;\n",
       "    }\n",
       "\n",
       "    .dataframe thead th {\n",
       "        text-align: right;\n",
       "    }\n",
       "</style>\n",
       "<table border=\"1\" class=\"dataframe\">\n",
       "  <thead>\n",
       "    <tr style=\"text-align: right;\">\n",
       "      <th></th>\n",
       "      <th>TicketType</th>\n",
       "      <th>Fare</th>\n",
       "    </tr>\n",
       "  </thead>\n",
       "  <tbody>\n",
       "    <tr>\n",
       "      <th>0</th>\n",
       "      <td>1</td>\n",
       "      <td>33</td>\n",
       "    </tr>\n",
       "    <tr>\n",
       "      <th>1</th>\n",
       "      <td>2</td>\n",
       "      <td>56</td>\n",
       "    </tr>\n",
       "    <tr>\n",
       "      <th>2</th>\n",
       "      <td>3</td>\n",
       "      <td>77</td>\n",
       "    </tr>\n",
       "    <tr>\n",
       "      <th>3</th>\n",
       "      <td>4</td>\n",
       "      <td>22</td>\n",
       "    </tr>\n",
       "    <tr>\n",
       "      <th>4</th>\n",
       "      <td>5</td>\n",
       "      <td>14</td>\n",
       "    </tr>\n",
       "  </tbody>\n",
       "</table>\n",
       "</div>"
      ],
      "text/plain": [
       "   TicketType  Fare\n",
       "0           1    33\n",
       "1           2    56\n",
       "2           3    77\n",
       "3           4    22\n",
       "4           5    14"
      ]
     },
     "execution_count": 60,
     "metadata": {},
     "output_type": "execute_result"
    }
   ],
   "source": [
    "df2 = pd.read_excel('ticketPrices.xlsx')\n",
    "df2.head(5)"
   ]
  },
  {
   "cell_type": "code",
   "execution_count": 61,
   "id": "625cdca1",
   "metadata": {},
   "outputs": [
    {
     "data": {
      "text/html": [
       "<div>\n",
       "<style scoped>\n",
       "    .dataframe tbody tr th:only-of-type {\n",
       "        vertical-align: middle;\n",
       "    }\n",
       "\n",
       "    .dataframe tbody tr th {\n",
       "        vertical-align: top;\n",
       "    }\n",
       "\n",
       "    .dataframe thead th {\n",
       "        text-align: right;\n",
       "    }\n",
       "</style>\n",
       "<table border=\"1\" class=\"dataframe\">\n",
       "  <thead>\n",
       "    <tr style=\"text-align: right;\">\n",
       "      <th></th>\n",
       "      <th>PassengerId</th>\n",
       "      <th>Survived</th>\n",
       "      <th>Pclass</th>\n",
       "      <th>Name</th>\n",
       "      <th>Sex</th>\n",
       "      <th>Age</th>\n",
       "      <th>TicketType</th>\n",
       "      <th>Fare</th>\n",
       "    </tr>\n",
       "  </thead>\n",
       "  <tbody>\n",
       "    <tr>\n",
       "      <th>0</th>\n",
       "      <td>1</td>\n",
       "      <td>0</td>\n",
       "      <td>3</td>\n",
       "      <td>Braund, Mr. Owen Harris</td>\n",
       "      <td>male</td>\n",
       "      <td>22.0</td>\n",
       "      <td>1</td>\n",
       "      <td>33</td>\n",
       "    </tr>\n",
       "    <tr>\n",
       "      <th>1</th>\n",
       "      <td>9</td>\n",
       "      <td>1</td>\n",
       "      <td>3</td>\n",
       "      <td>Johnson, Mrs. Oscar W (Elisabeth Vilhelmina Berg)</td>\n",
       "      <td>female</td>\n",
       "      <td>27.0</td>\n",
       "      <td>1</td>\n",
       "      <td>33</td>\n",
       "    </tr>\n",
       "    <tr>\n",
       "      <th>2</th>\n",
       "      <td>17</td>\n",
       "      <td>0</td>\n",
       "      <td>3</td>\n",
       "      <td>Rice, Master. Eugene</td>\n",
       "      <td>male</td>\n",
       "      <td>2.0</td>\n",
       "      <td>1</td>\n",
       "      <td>33</td>\n",
       "    </tr>\n",
       "    <tr>\n",
       "      <th>3</th>\n",
       "      <td>25</td>\n",
       "      <td>0</td>\n",
       "      <td>3</td>\n",
       "      <td>Palsson, Miss. Torborg Danira</td>\n",
       "      <td>female</td>\n",
       "      <td>8.0</td>\n",
       "      <td>1</td>\n",
       "      <td>33</td>\n",
       "    </tr>\n",
       "    <tr>\n",
       "      <th>4</th>\n",
       "      <td>33</td>\n",
       "      <td>1</td>\n",
       "      <td>3</td>\n",
       "      <td>Glynn, Miss. Mary Agatha</td>\n",
       "      <td>female</td>\n",
       "      <td>NaN</td>\n",
       "      <td>1</td>\n",
       "      <td>33</td>\n",
       "    </tr>\n",
       "    <tr>\n",
       "      <th>...</th>\n",
       "      <td>...</td>\n",
       "      <td>...</td>\n",
       "      <td>...</td>\n",
       "      <td>...</td>\n",
       "      <td>...</td>\n",
       "      <td>...</td>\n",
       "      <td>...</td>\n",
       "      <td>...</td>\n",
       "    </tr>\n",
       "    <tr>\n",
       "      <th>886</th>\n",
       "      <td>856</td>\n",
       "      <td>1</td>\n",
       "      <td>3</td>\n",
       "      <td>Aks, Mrs. Sam (Leah Rosen)</td>\n",
       "      <td>female</td>\n",
       "      <td>18.0</td>\n",
       "      <td>8</td>\n",
       "      <td>36</td>\n",
       "    </tr>\n",
       "    <tr>\n",
       "      <th>887</th>\n",
       "      <td>864</td>\n",
       "      <td>0</td>\n",
       "      <td>3</td>\n",
       "      <td>Sage, Miss. Dorothy Edith \"Dolly\"</td>\n",
       "      <td>female</td>\n",
       "      <td>NaN</td>\n",
       "      <td>8</td>\n",
       "      <td>36</td>\n",
       "    </tr>\n",
       "    <tr>\n",
       "      <th>888</th>\n",
       "      <td>872</td>\n",
       "      <td>1</td>\n",
       "      <td>1</td>\n",
       "      <td>Beckwith, Mrs. Richard Leonard (Sallie Monypeny)</td>\n",
       "      <td>female</td>\n",
       "      <td>47.0</td>\n",
       "      <td>8</td>\n",
       "      <td>36</td>\n",
       "    </tr>\n",
       "    <tr>\n",
       "      <th>889</th>\n",
       "      <td>880</td>\n",
       "      <td>1</td>\n",
       "      <td>1</td>\n",
       "      <td>Potter, Mrs. Thomas Jr (Lily Alexenia Wilson)</td>\n",
       "      <td>female</td>\n",
       "      <td>56.0</td>\n",
       "      <td>8</td>\n",
       "      <td>36</td>\n",
       "    </tr>\n",
       "    <tr>\n",
       "      <th>890</th>\n",
       "      <td>888</td>\n",
       "      <td>1</td>\n",
       "      <td>1</td>\n",
       "      <td>Graham, Miss. Margaret Edith</td>\n",
       "      <td>female</td>\n",
       "      <td>19.0</td>\n",
       "      <td>8</td>\n",
       "      <td>36</td>\n",
       "    </tr>\n",
       "  </tbody>\n",
       "</table>\n",
       "<p>891 rows × 8 columns</p>\n",
       "</div>"
      ],
      "text/plain": [
       "     PassengerId  Survived  Pclass  \\\n",
       "0              1         0       3   \n",
       "1              9         1       3   \n",
       "2             17         0       3   \n",
       "3             25         0       3   \n",
       "4             33         1       3   \n",
       "..           ...       ...     ...   \n",
       "886          856         1       3   \n",
       "887          864         0       3   \n",
       "888          872         1       1   \n",
       "889          880         1       1   \n",
       "890          888         1       1   \n",
       "\n",
       "                                                  Name     Sex   Age  \\\n",
       "0                              Braund, Mr. Owen Harris    male  22.0   \n",
       "1    Johnson, Mrs. Oscar W (Elisabeth Vilhelmina Berg)  female  27.0   \n",
       "2                                 Rice, Master. Eugene    male   2.0   \n",
       "3                        Palsson, Miss. Torborg Danira  female   8.0   \n",
       "4                             Glynn, Miss. Mary Agatha  female   NaN   \n",
       "..                                                 ...     ...   ...   \n",
       "886                         Aks, Mrs. Sam (Leah Rosen)  female  18.0   \n",
       "887                  Sage, Miss. Dorothy Edith \"Dolly\"  female   NaN   \n",
       "888   Beckwith, Mrs. Richard Leonard (Sallie Monypeny)  female  47.0   \n",
       "889      Potter, Mrs. Thomas Jr (Lily Alexenia Wilson)  female  56.0   \n",
       "890                       Graham, Miss. Margaret Edith  female  19.0   \n",
       "\n",
       "     TicketType  Fare  \n",
       "0             1    33  \n",
       "1             1    33  \n",
       "2             1    33  \n",
       "3             1    33  \n",
       "4             1    33  \n",
       "..          ...   ...  \n",
       "886           8    36  \n",
       "887           8    36  \n",
       "888           8    36  \n",
       "889           8    36  \n",
       "890           8    36  \n",
       "\n",
       "[891 rows x 8 columns]"
      ]
     },
     "execution_count": 61,
     "metadata": {},
     "output_type": "execute_result"
    }
   ],
   "source": [
    "res = pd.merge(df1, df2, on =\"TicketType\", how = 'inner')\n",
    "res\n"
   ]
  },
  {
   "cell_type": "code",
   "execution_count": 62,
   "id": "eeee8b0f",
   "metadata": {},
   "outputs": [
    {
     "data": {
      "text/plain": [
       "80.0"
      ]
     },
     "execution_count": 62,
     "metadata": {},
     "output_type": "execute_result"
    }
   ],
   "source": [
    "column = res[\"Age\"]\n",
    "max_value = column.max()\n",
    "max_value"
   ]
  },
  {
   "cell_type": "code",
   "execution_count": 63,
   "id": "4a5fdd90",
   "metadata": {},
   "outputs": [
    {
     "data": {
      "text/html": [
       "<div>\n",
       "<style scoped>\n",
       "    .dataframe tbody tr th:only-of-type {\n",
       "        vertical-align: middle;\n",
       "    }\n",
       "\n",
       "    .dataframe tbody tr th {\n",
       "        vertical-align: top;\n",
       "    }\n",
       "\n",
       "    .dataframe thead th {\n",
       "        text-align: right;\n",
       "    }\n",
       "</style>\n",
       "<table border=\"1\" class=\"dataframe\">\n",
       "  <thead>\n",
       "    <tr style=\"text-align: right;\">\n",
       "      <th></th>\n",
       "      <th>PassengerId</th>\n",
       "      <th>Survived</th>\n",
       "      <th>Pclass</th>\n",
       "      <th>Name</th>\n",
       "      <th>Sex</th>\n",
       "      <th>Age</th>\n",
       "      <th>TicketType</th>\n",
       "      <th>Fare</th>\n",
       "    </tr>\n",
       "  </thead>\n",
       "  <tbody>\n",
       "    <tr>\n",
       "      <th>747</th>\n",
       "      <td>631</td>\n",
       "      <td>1</td>\n",
       "      <td>1</td>\n",
       "      <td>Barkworth, Mr. Algernon Henry Wilson</td>\n",
       "      <td>male</td>\n",
       "      <td>80.0</td>\n",
       "      <td>7</td>\n",
       "      <td>87</td>\n",
       "    </tr>\n",
       "  </tbody>\n",
       "</table>\n",
       "</div>"
      ],
      "text/plain": [
       "     PassengerId  Survived  Pclass                                  Name  \\\n",
       "747          631         1       1  Barkworth, Mr. Algernon Henry Wilson   \n",
       "\n",
       "      Sex   Age  TicketType  Fare  \n",
       "747  male  80.0           7    87  "
      ]
     },
     "execution_count": 63,
     "metadata": {},
     "output_type": "execute_result"
    }
   ],
   "source": [
    "Oldest = res[res[\"Age\"] == 80]\n",
    "Oldest\n"
   ]
  },
  {
   "cell_type": "code",
   "execution_count": 64,
   "id": "c8bffd34",
   "metadata": {},
   "outputs": [
    {
     "data": {
      "text/plain": [
       "<AxesSubplot:xlabel='Age', ylabel='Fare'>"
      ]
     },
     "execution_count": 64,
     "metadata": {},
     "output_type": "execute_result"
    },
    {
     "data": {
      "image/png": "[encoded data removed]",
      "text/plain": [
       "<Figure size 432x288 with 1 Axes>"
      ]
     },
     "metadata": {
      "needs_background": "light"
     },
     "output_type": "display_data"
    }
   ],
   "source": [
    "res.plot.scatter(x = 'Age', y = 'Fare')"
   ]
  },
  {
   "cell_type": "code",
   "execution_count": 72,
   "id": "46979ceb",
   "metadata": {},
   "outputs": [
    {
     "data": {
      "text/plain": [
       "<AxesSubplot:xlabel='Age', ylabel='Fare'>"
      ]
     },
     "execution_count": 72,
     "metadata": {},
     "output_type": "execute_result"
    },
    {
     "data": {
      "image/png": "[encoded data removed]",
      "text/plain": [
       "<Figure size 432x288 with 1 Axes>"
      ]
     },
     "metadata": {
      "needs_background": "light"
     },
     "output_type": "display_data"
    }
   ],
   "source": [
    "df3 = res [(res.Sex=='female') & (res.Age >=40) & (res.Age<=50) & (res.Fare >=40)]\n",
    "df3\n",
    "\n",
    "df3.plot.scatter(x = 'Age', y = 'Fare')"
   ]
  },
  {
   "cell_type": "code",
   "execution_count": null,
   "id": "4078ab9c",
   "metadata": {
    "scrolled": true
   },
   "outputs": [],
   "source": []
  },
  {
   "cell_type": "code",
   "execution_count": null,
   "id": "dffd13f5",
   "metadata": {},
   "outputs": [],
   "source": []
  },
  {
   "cell_type": "code",
   "execution_count": null,
   "id": "6b3a02f9",
   "metadata": {},
   "outputs": [],
   "source": []
  },
  {
   "cell_type": "code",
   "execution_count": null,
   "id": "45ef4132",
   "metadata": {},
   "outputs": [],
   "source": [
    "#DIY Exercises - 2 : Missing values"
   ]
  },
  {
   "cell_type": "code",
   "execution_count": 87,
   "id": "018a5bb3",
   "metadata": {},
   "outputs": [
    {
     "data": {
      "text/html": [
       "<div>\n",
       "<style scoped>\n",
       "    .dataframe tbody tr th:only-of-type {\n",
       "        vertical-align: middle;\n",
       "    }\n",
       "\n",
       "    .dataframe tbody tr th {\n",
       "        vertical-align: top;\n",
       "    }\n",
       "\n",
       "    .dataframe thead th {\n",
       "        text-align: right;\n",
       "    }\n",
       "</style>\n",
       "<table border=\"1\" class=\"dataframe\">\n",
       "  <thead>\n",
       "    <tr style=\"text-align: right;\">\n",
       "      <th></th>\n",
       "      <th>PassengerId</th>\n",
       "      <th>Survived</th>\n",
       "      <th>Pclass</th>\n",
       "      <th>Name</th>\n",
       "      <th>Sex</th>\n",
       "      <th>Age</th>\n",
       "      <th>SibSp</th>\n",
       "      <th>Parch</th>\n",
       "      <th>Ticket</th>\n",
       "      <th>Fare</th>\n",
       "      <th>Cabin</th>\n",
       "      <th>Embarked</th>\n",
       "    </tr>\n",
       "  </thead>\n",
       "  <tbody>\n",
       "    <tr>\n",
       "      <th>0</th>\n",
       "      <td>1</td>\n",
       "      <td>0</td>\n",
       "      <td>3</td>\n",
       "      <td>Braund, Mr. Owen Harris</td>\n",
       "      <td>male</td>\n",
       "      <td>22.0</td>\n",
       "      <td>1</td>\n",
       "      <td>0</td>\n",
       "      <td>A/5 21171</td>\n",
       "      <td>7.2500</td>\n",
       "      <td>NaN</td>\n",
       "      <td>S</td>\n",
       "    </tr>\n",
       "    <tr>\n",
       "      <th>1</th>\n",
       "      <td>2</td>\n",
       "      <td>1</td>\n",
       "      <td>1</td>\n",
       "      <td>Cumings, Mrs. John Bradley (Florence Briggs Th...</td>\n",
       "      <td>female</td>\n",
       "      <td>38.0</td>\n",
       "      <td>1</td>\n",
       "      <td>0</td>\n",
       "      <td>PC 17599</td>\n",
       "      <td>71.2833</td>\n",
       "      <td>C85</td>\n",
       "      <td>C</td>\n",
       "    </tr>\n",
       "    <tr>\n",
       "      <th>2</th>\n",
       "      <td>3</td>\n",
       "      <td>1</td>\n",
       "      <td>3</td>\n",
       "      <td>Heikkinen, Miss. Laina</td>\n",
       "      <td>female</td>\n",
       "      <td>26.0</td>\n",
       "      <td>0</td>\n",
       "      <td>0</td>\n",
       "      <td>STON/O2. 3101282</td>\n",
       "      <td>7.9250</td>\n",
       "      <td>NaN</td>\n",
       "      <td>S</td>\n",
       "    </tr>\n",
       "    <tr>\n",
       "      <th>3</th>\n",
       "      <td>4</td>\n",
       "      <td>1</td>\n",
       "      <td>1</td>\n",
       "      <td>Futrelle, Mrs. Jacques Heath (Lily May Peel)</td>\n",
       "      <td>female</td>\n",
       "      <td>35.0</td>\n",
       "      <td>1</td>\n",
       "      <td>0</td>\n",
       "      <td>113803</td>\n",
       "      <td>53.1000</td>\n",
       "      <td>C123</td>\n",
       "      <td>S</td>\n",
       "    </tr>\n",
       "    <tr>\n",
       "      <th>4</th>\n",
       "      <td>5</td>\n",
       "      <td>0</td>\n",
       "      <td>3</td>\n",
       "      <td>Allen, Mr. William Henry</td>\n",
       "      <td>male</td>\n",
       "      <td>35.0</td>\n",
       "      <td>0</td>\n",
       "      <td>0</td>\n",
       "      <td>373450</td>\n",
       "      <td>8.0500</td>\n",
       "      <td>NaN</td>\n",
       "      <td>S</td>\n",
       "    </tr>\n",
       "    <tr>\n",
       "      <th>...</th>\n",
       "      <td>...</td>\n",
       "      <td>...</td>\n",
       "      <td>...</td>\n",
       "      <td>...</td>\n",
       "      <td>...</td>\n",
       "      <td>...</td>\n",
       "      <td>...</td>\n",
       "      <td>...</td>\n",
       "      <td>...</td>\n",
       "      <td>...</td>\n",
       "      <td>...</td>\n",
       "      <td>...</td>\n",
       "    </tr>\n",
       "    <tr>\n",
       "      <th>886</th>\n",
       "      <td>887</td>\n",
       "      <td>0</td>\n",
       "      <td>2</td>\n",
       "      <td>Montvila, Rev. Juozas</td>\n",
       "      <td>male</td>\n",
       "      <td>27.0</td>\n",
       "      <td>0</td>\n",
       "      <td>0</td>\n",
       "      <td>211536</td>\n",
       "      <td>13.0000</td>\n",
       "      <td>NaN</td>\n",
       "      <td>S</td>\n",
       "    </tr>\n",
       "    <tr>\n",
       "      <th>887</th>\n",
       "      <td>888</td>\n",
       "      <td>1</td>\n",
       "      <td>1</td>\n",
       "      <td>Graham, Miss. Margaret Edith</td>\n",
       "      <td>female</td>\n",
       "      <td>19.0</td>\n",
       "      <td>0</td>\n",
       "      <td>0</td>\n",
       "      <td>112053</td>\n",
       "      <td>30.0000</td>\n",
       "      <td>B42</td>\n",
       "      <td>S</td>\n",
       "    </tr>\n",
       "    <tr>\n",
       "      <th>888</th>\n",
       "      <td>889</td>\n",
       "      <td>0</td>\n",
       "      <td>3</td>\n",
       "      <td>Johnston, Miss. Catherine Helen \"Carrie\"</td>\n",
       "      <td>female</td>\n",
       "      <td>NaN</td>\n",
       "      <td>1</td>\n",
       "      <td>2</td>\n",
       "      <td>W./C. 6607</td>\n",
       "      <td>23.4500</td>\n",
       "      <td>NaN</td>\n",
       "      <td>S</td>\n",
       "    </tr>\n",
       "    <tr>\n",
       "      <th>889</th>\n",
       "      <td>890</td>\n",
       "      <td>1</td>\n",
       "      <td>1</td>\n",
       "      <td>Behr, Mr. Karl Howell</td>\n",
       "      <td>male</td>\n",
       "      <td>26.0</td>\n",
       "      <td>0</td>\n",
       "      <td>0</td>\n",
       "      <td>111369</td>\n",
       "      <td>30.0000</td>\n",
       "      <td>C148</td>\n",
       "      <td>C</td>\n",
       "    </tr>\n",
       "    <tr>\n",
       "      <th>890</th>\n",
       "      <td>891</td>\n",
       "      <td>0</td>\n",
       "      <td>3</td>\n",
       "      <td>Dooley, Mr. Patrick</td>\n",
       "      <td>male</td>\n",
       "      <td>32.0</td>\n",
       "      <td>0</td>\n",
       "      <td>0</td>\n",
       "      <td>370376</td>\n",
       "      <td>7.7500</td>\n",
       "      <td>NaN</td>\n",
       "      <td>Q</td>\n",
       "    </tr>\n",
       "  </tbody>\n",
       "</table>\n",
       "<p>891 rows × 12 columns</p>\n",
       "</div>"
      ],
      "text/plain": [
       "     PassengerId  Survived  Pclass  \\\n",
       "0              1         0       3   \n",
       "1              2         1       1   \n",
       "2              3         1       3   \n",
       "3              4         1       1   \n",
       "4              5         0       3   \n",
       "..           ...       ...     ...   \n",
       "886          887         0       2   \n",
       "887          888         1       1   \n",
       "888          889         0       3   \n",
       "889          890         1       1   \n",
       "890          891         0       3   \n",
       "\n",
       "                                                  Name     Sex   Age  SibSp  \\\n",
       "0                              Braund, Mr. Owen Harris    male  22.0      1   \n",
       "1    Cumings, Mrs. John Bradley (Florence Briggs Th...  female  38.0      1   \n",
       "2                               Heikkinen, Miss. Laina  female  26.0      0   \n",
       "3         Futrelle, Mrs. Jacques Heath (Lily May Peel)  female  35.0      1   \n",
       "4                             Allen, Mr. William Henry    male  35.0      0   \n",
       "..                                                 ...     ...   ...    ...   \n",
       "886                              Montvila, Rev. Juozas    male  27.0      0   \n",
       "887                       Graham, Miss. Margaret Edith  female  19.0      0   \n",
       "888           Johnston, Miss. Catherine Helen \"Carrie\"  female   NaN      1   \n",
       "889                              Behr, Mr. Karl Howell    male  26.0      0   \n",
       "890                                Dooley, Mr. Patrick    male  32.0      0   \n",
       "\n",
       "     Parch            Ticket     Fare Cabin Embarked  \n",
       "0        0         A/5 21171   7.2500   NaN        S  \n",
       "1        0          PC 17599  71.2833   C85        C  \n",
       "2        0  STON/O2. 3101282   7.9250   NaN        S  \n",
       "3        0            113803  53.1000  C123        S  \n",
       "4        0            373450   8.0500   NaN        S  \n",
       "..     ...               ...      ...   ...      ...  \n",
       "886      0            211536  13.0000   NaN        S  \n",
       "887      0            112053  30.0000   B42        S  \n",
       "888      2        W./C. 6607  23.4500   NaN        S  \n",
       "889      0            111369  30.0000  C148        C  \n",
       "890      0            370376   7.7500   NaN        Q  \n",
       "\n",
       "[891 rows x 12 columns]"
      ]
     },
     "execution_count": 87,
     "metadata": {},
     "output_type": "execute_result"
    }
   ],
   "source": [
    "df4 = pd.read_csv('titanicSurvival_m.csv')\n",
    "df4"
   ]
  },
  {
   "cell_type": "code",
   "execution_count": 89,
   "id": "adf6c437",
   "metadata": {},
   "outputs": [
    {
     "data": {
      "text/plain": [
       "PassengerId      0\n",
       "Survived         0\n",
       "Pclass           0\n",
       "Name             0\n",
       "Sex              0\n",
       "Age            177\n",
       "SibSp            0\n",
       "Parch            0\n",
       "Ticket           0\n",
       "Fare            46\n",
       "Cabin          687\n",
       "Embarked         2\n",
       "dtype: int64"
      ]
     },
     "execution_count": 89,
     "metadata": {},
     "output_type": "execute_result"
    }
   ],
   "source": [
    "df4.isnull().sum()"
   ]
  },
  {
   "cell_type": "code",
   "execution_count": 92,
   "id": "2e82d062",
   "metadata": {},
   "outputs": [
    {
     "data": {
      "text/html": [
       "<div>\n",
       "<style scoped>\n",
       "    .dataframe tbody tr th:only-of-type {\n",
       "        vertical-align: middle;\n",
       "    }\n",
       "\n",
       "    .dataframe tbody tr th {\n",
       "        vertical-align: top;\n",
       "    }\n",
       "\n",
       "    .dataframe thead th {\n",
       "        text-align: right;\n",
       "    }\n",
       "</style>\n",
       "<table border=\"1\" class=\"dataframe\">\n",
       "  <thead>\n",
       "    <tr style=\"text-align: right;\">\n",
       "      <th></th>\n",
       "      <th>PassengerId</th>\n",
       "      <th>Survived</th>\n",
       "      <th>Pclass</th>\n",
       "      <th>Age</th>\n",
       "      <th>SibSp</th>\n",
       "      <th>Parch</th>\n",
       "      <th>Fare</th>\n",
       "    </tr>\n",
       "  </thead>\n",
       "  <tbody>\n",
       "    <tr>\n",
       "      <th>count</th>\n",
       "      <td>891.000000</td>\n",
       "      <td>891.000000</td>\n",
       "      <td>891.000000</td>\n",
       "      <td>714.000000</td>\n",
       "      <td>891.000000</td>\n",
       "      <td>891.000000</td>\n",
       "      <td>845.000000</td>\n",
       "    </tr>\n",
       "    <tr>\n",
       "      <th>mean</th>\n",
       "      <td>446.000000</td>\n",
       "      <td>0.383838</td>\n",
       "      <td>2.308642</td>\n",
       "      <td>29.699118</td>\n",
       "      <td>0.523008</td>\n",
       "      <td>0.381594</td>\n",
       "      <td>32.304319</td>\n",
       "    </tr>\n",
       "    <tr>\n",
       "      <th>std</th>\n",
       "      <td>257.353842</td>\n",
       "      <td>0.486592</td>\n",
       "      <td>0.836071</td>\n",
       "      <td>14.526497</td>\n",
       "      <td>1.102743</td>\n",
       "      <td>0.806057</td>\n",
       "      <td>49.792612</td>\n",
       "    </tr>\n",
       "    <tr>\n",
       "      <th>min</th>\n",
       "      <td>1.000000</td>\n",
       "      <td>0.000000</td>\n",
       "      <td>1.000000</td>\n",
       "      <td>0.420000</td>\n",
       "      <td>0.000000</td>\n",
       "      <td>0.000000</td>\n",
       "      <td>0.000000</td>\n",
       "    </tr>\n",
       "    <tr>\n",
       "      <th>25%</th>\n",
       "      <td>223.500000</td>\n",
       "      <td>0.000000</td>\n",
       "      <td>2.000000</td>\n",
       "      <td>20.125000</td>\n",
       "      <td>0.000000</td>\n",
       "      <td>0.000000</td>\n",
       "      <td>7.895800</td>\n",
       "    </tr>\n",
       "    <tr>\n",
       "      <th>50%</th>\n",
       "      <td>446.000000</td>\n",
       "      <td>0.000000</td>\n",
       "      <td>3.000000</td>\n",
       "      <td>28.000000</td>\n",
       "      <td>0.000000</td>\n",
       "      <td>0.000000</td>\n",
       "      <td>14.454200</td>\n",
       "    </tr>\n",
       "    <tr>\n",
       "      <th>75%</th>\n",
       "      <td>668.500000</td>\n",
       "      <td>1.000000</td>\n",
       "      <td>3.000000</td>\n",
       "      <td>38.000000</td>\n",
       "      <td>1.000000</td>\n",
       "      <td>0.000000</td>\n",
       "      <td>31.275000</td>\n",
       "    </tr>\n",
       "    <tr>\n",
       "      <th>max</th>\n",
       "      <td>891.000000</td>\n",
       "      <td>1.000000</td>\n",
       "      <td>3.000000</td>\n",
       "      <td>80.000000</td>\n",
       "      <td>8.000000</td>\n",
       "      <td>6.000000</td>\n",
       "      <td>512.329200</td>\n",
       "    </tr>\n",
       "  </tbody>\n",
       "</table>\n",
       "</div>"
      ],
      "text/plain": [
       "       PassengerId    Survived      Pclass         Age       SibSp  \\\n",
       "count   891.000000  891.000000  891.000000  714.000000  891.000000   \n",
       "mean    446.000000    0.383838    2.308642   29.699118    0.523008   \n",
       "std     257.353842    0.486592    0.836071   14.526497    1.102743   \n",
       "min       1.000000    0.000000    1.000000    0.420000    0.000000   \n",
       "25%     223.500000    0.000000    2.000000   20.125000    0.000000   \n",
       "50%     446.000000    0.000000    3.000000   28.000000    0.000000   \n",
       "75%     668.500000    1.000000    3.000000   38.000000    1.000000   \n",
       "max     891.000000    1.000000    3.000000   80.000000    8.000000   \n",
       "\n",
       "            Parch        Fare  \n",
       "count  891.000000  845.000000  \n",
       "mean     0.381594   32.304319  \n",
       "std      0.806057   49.792612  \n",
       "min      0.000000    0.000000  \n",
       "25%      0.000000    7.895800  \n",
       "50%      0.000000   14.454200  \n",
       "75%      0.000000   31.275000  \n",
       "max      6.000000  512.329200  "
      ]
     },
     "execution_count": 92,
     "metadata": {},
     "output_type": "execute_result"
    }
   ],
   "source": [
    "df4.describe()"
   ]
  },
  {
   "cell_type": "code",
   "execution_count": null,
   "id": "76caf492",
   "metadata": {},
   "outputs": [],
   "source": []
  },
  {
   "cell_type": "code",
   "execution_count": 76,
   "id": "b0dbddf9",
   "metadata": {},
   "outputs": [
    {
     "data": {
      "text/plain": [
       "<AxesSubplot:xlabel='Age', ylabel='Fare'>"
      ]
     },
     "execution_count": 76,
     "metadata": {},
     "output_type": "execute_result"
    },
    {
     "data": {
      "image/png": "[encoded data removed]",
      "text/plain": [
       "<Figure size 432x288 with 1 Axes>"
      ]
     },
     "metadata": {
      "needs_background": "light"
     },
     "output_type": "display_data"
    }
   ],
   "source": [
    "df4[['Age', 'Fare']] = df4[['Age', 'Fare']].fillna(value=0)\n",
    "\n",
    "df4.plot.scatter(x = 'Age', y = 'Fare')"
   ]
  },
  {
   "cell_type": "code",
   "execution_count": 84,
   "id": "ea8378e7",
   "metadata": {},
   "outputs": [
    {
     "data": {
      "text/plain": [
       "<AxesSubplot:xlabel='Age', ylabel='Fare'>"
      ]
     },
     "execution_count": 84,
     "metadata": {},
     "output_type": "execute_result"
    },
    {
     "data": {
      "image/png": "[encoded data removed]",
      "text/plain": [
       "<Figure size 432x288 with 1 Axes>"
      ]
     },
     "metadata": {
      "needs_background": "light"
     },
     "output_type": "display_data"
    }
   ],
   "source": [
    "df4[['Age', 'Fare']] = df4[['Age', 'Fare']].fillna(value = df4[['Age','Fare']].mean())\n",
    "\n",
    "\n",
    "df4.plot.scatter(x = 'Age', y = 'Fare')"
   ]
  },
  {
   "cell_type": "code",
   "execution_count": null,
   "id": "9542fbd2",
   "metadata": {},
   "outputs": [],
   "source": [
    "# The plots look very similar but the 2nd plot contain less data points with the value 0"
   ]
  },
  {
   "cell_type": "code",
   "execution_count": null,
   "id": "2899ef6a",
   "metadata": {},
   "outputs": [],
   "source": []
  },
  {
   "cell_type": "code",
   "execution_count": null,
   "id": "ce4c1eb8",
   "metadata": {},
   "outputs": [],
   "source": []
  },
  {
   "cell_type": "code",
   "execution_count": null,
   "id": "d9c79679",
   "metadata": {},
   "outputs": [],
   "source": [
    "# DIY Exercises - 3 : Data Transformations"
   ]
  },
  {
   "cell_type": "code",
   "execution_count": null,
   "id": "584758b4",
   "metadata": {},
   "outputs": [],
   "source": [
    "# 1.Download the csv data file from WHO on Tuberculosis (from Week01). Information on the data can be found on WHO's web page."
   ]
  },
  {
   "cell_type": "code",
   "execution_count": 93,
   "id": "3616703f",
   "metadata": {},
   "outputs": [
    {
     "data": {
      "text/html": [
       "<div>\n",
       "<style scoped>\n",
       "    .dataframe tbody tr th:only-of-type {\n",
       "        vertical-align: middle;\n",
       "    }\n",
       "\n",
       "    .dataframe tbody tr th {\n",
       "        vertical-align: top;\n",
       "    }\n",
       "\n",
       "    .dataframe thead th {\n",
       "        text-align: right;\n",
       "    }\n",
       "</style>\n",
       "<table border=\"1\" class=\"dataframe\">\n",
       "  <thead>\n",
       "    <tr style=\"text-align: right;\">\n",
       "      <th></th>\n",
       "      <th>country</th>\n",
       "      <th>iso2</th>\n",
       "      <th>iso3</th>\n",
       "      <th>iso_numeric</th>\n",
       "      <th>g_whoregion</th>\n",
       "      <th>year</th>\n",
       "      <th>e_pop_num</th>\n",
       "      <th>e_prev_100k</th>\n",
       "      <th>e_prev_100k_lo</th>\n",
       "      <th>e_prev_100k_hi</th>\n",
       "      <th>...</th>\n",
       "      <th>e_inc_tbhiv_100k</th>\n",
       "      <th>e_inc_tbhiv_100k_lo</th>\n",
       "      <th>e_inc_tbhiv_100k_hi</th>\n",
       "      <th>e_inc_tbhiv_num</th>\n",
       "      <th>e_inc_tbhiv_num_lo</th>\n",
       "      <th>e_inc_tbhiv_num_hi</th>\n",
       "      <th>source_tbhiv</th>\n",
       "      <th>c_cdr</th>\n",
       "      <th>c_cdr_lo</th>\n",
       "      <th>c_cdr_hi</th>\n",
       "    </tr>\n",
       "  </thead>\n",
       "  <tbody>\n",
       "    <tr>\n",
       "      <th>0</th>\n",
       "      <td>Afghanistan</td>\n",
       "      <td>AF</td>\n",
       "      <td>AFG</td>\n",
       "      <td>4</td>\n",
       "      <td>EMR</td>\n",
       "      <td>1990</td>\n",
       "      <td>11731193</td>\n",
       "      <td>327.0</td>\n",
       "      <td>112.0</td>\n",
       "      <td>655.0</td>\n",
       "      <td>...</td>\n",
       "      <td>0.35</td>\n",
       "      <td>0.22</td>\n",
       "      <td>0.52</td>\n",
       "      <td>41.0</td>\n",
       "      <td>25.0</td>\n",
       "      <td>60.0</td>\n",
       "      <td>Model</td>\n",
       "      <td>20.0</td>\n",
       "      <td>13.0</td>\n",
       "      <td>32.0</td>\n",
       "    </tr>\n",
       "    <tr>\n",
       "      <th>1</th>\n",
       "      <td>Afghanistan</td>\n",
       "      <td>AF</td>\n",
       "      <td>AFG</td>\n",
       "      <td>4</td>\n",
       "      <td>EMR</td>\n",
       "      <td>1991</td>\n",
       "      <td>12612043</td>\n",
       "      <td>359.0</td>\n",
       "      <td>172.0</td>\n",
       "      <td>613.0</td>\n",
       "      <td>...</td>\n",
       "      <td>0.36</td>\n",
       "      <td>0.19</td>\n",
       "      <td>0.58</td>\n",
       "      <td>45.0</td>\n",
       "      <td>24.0</td>\n",
       "      <td>73.0</td>\n",
       "      <td>Model</td>\n",
       "      <td>97.0</td>\n",
       "      <td>77.0</td>\n",
       "      <td>120.0</td>\n",
       "    </tr>\n",
       "    <tr>\n",
       "      <th>2</th>\n",
       "      <td>Afghanistan</td>\n",
       "      <td>AF</td>\n",
       "      <td>AFG</td>\n",
       "      <td>4</td>\n",
       "      <td>EMR</td>\n",
       "      <td>1992</td>\n",
       "      <td>13811876</td>\n",
       "      <td>387.0</td>\n",
       "      <td>169.0</td>\n",
       "      <td>693.0</td>\n",
       "      <td>...</td>\n",
       "      <td>0.37</td>\n",
       "      <td>0.19</td>\n",
       "      <td>0.62</td>\n",
       "      <td>51.0</td>\n",
       "      <td>26.0</td>\n",
       "      <td>86.0</td>\n",
       "      <td>Model</td>\n",
       "      <td>NaN</td>\n",
       "      <td>NaN</td>\n",
       "      <td>NaN</td>\n",
       "    </tr>\n",
       "    <tr>\n",
       "      <th>3</th>\n",
       "      <td>Afghanistan</td>\n",
       "      <td>AF</td>\n",
       "      <td>AFG</td>\n",
       "      <td>4</td>\n",
       "      <td>EMR</td>\n",
       "      <td>1993</td>\n",
       "      <td>15175325</td>\n",
       "      <td>412.0</td>\n",
       "      <td>186.0</td>\n",
       "      <td>724.0</td>\n",
       "      <td>...</td>\n",
       "      <td>0.38</td>\n",
       "      <td>0.20</td>\n",
       "      <td>0.63</td>\n",
       "      <td>58.0</td>\n",
       "      <td>30.0</td>\n",
       "      <td>95.0</td>\n",
       "      <td>Model</td>\n",
       "      <td>NaN</td>\n",
       "      <td>NaN</td>\n",
       "      <td>NaN</td>\n",
       "    </tr>\n",
       "    <tr>\n",
       "      <th>4</th>\n",
       "      <td>Afghanistan</td>\n",
       "      <td>AF</td>\n",
       "      <td>AFG</td>\n",
       "      <td>4</td>\n",
       "      <td>EMR</td>\n",
       "      <td>1994</td>\n",
       "      <td>16485018</td>\n",
       "      <td>431.0</td>\n",
       "      <td>199.0</td>\n",
       "      <td>751.0</td>\n",
       "      <td>...</td>\n",
       "      <td>0.40</td>\n",
       "      <td>0.21</td>\n",
       "      <td>0.64</td>\n",
       "      <td>65.0</td>\n",
       "      <td>35.0</td>\n",
       "      <td>100.0</td>\n",
       "      <td>Model</td>\n",
       "      <td>NaN</td>\n",
       "      <td>NaN</td>\n",
       "      <td>NaN</td>\n",
       "    </tr>\n",
       "  </tbody>\n",
       "</table>\n",
       "<p>5 rows × 39 columns</p>\n",
       "</div>"
      ],
      "text/plain": [
       "       country iso2 iso3  iso_numeric g_whoregion  year  e_pop_num  \\\n",
       "0  Afghanistan   AF  AFG            4         EMR  1990   11731193   \n",
       "1  Afghanistan   AF  AFG            4         EMR  1991   12612043   \n",
       "2  Afghanistan   AF  AFG            4         EMR  1992   13811876   \n",
       "3  Afghanistan   AF  AFG            4         EMR  1993   15175325   \n",
       "4  Afghanistan   AF  AFG            4         EMR  1994   16485018   \n",
       "\n",
       "   e_prev_100k  e_prev_100k_lo  e_prev_100k_hi  ...  e_inc_tbhiv_100k  \\\n",
       "0        327.0           112.0           655.0  ...              0.35   \n",
       "1        359.0           172.0           613.0  ...              0.36   \n",
       "2        387.0           169.0           693.0  ...              0.37   \n",
       "3        412.0           186.0           724.0  ...              0.38   \n",
       "4        431.0           199.0           751.0  ...              0.40   \n",
       "\n",
       "   e_inc_tbhiv_100k_lo  e_inc_tbhiv_100k_hi  e_inc_tbhiv_num  \\\n",
       "0                 0.22                 0.52             41.0   \n",
       "1                 0.19                 0.58             45.0   \n",
       "2                 0.19                 0.62             51.0   \n",
       "3                 0.20                 0.63             58.0   \n",
       "4                 0.21                 0.64             65.0   \n",
       "\n",
       "   e_inc_tbhiv_num_lo  e_inc_tbhiv_num_hi  source_tbhiv  c_cdr  c_cdr_lo  \\\n",
       "0                25.0                60.0         Model   20.0      13.0   \n",
       "1                24.0                73.0         Model   97.0      77.0   \n",
       "2                26.0                86.0         Model    NaN       NaN   \n",
       "3                30.0                95.0         Model    NaN       NaN   \n",
       "4                35.0               100.0         Model    NaN       NaN   \n",
       "\n",
       "  c_cdr_hi  \n",
       "0     32.0  \n",
       "1    120.0  \n",
       "2      NaN  \n",
       "3      NaN  \n",
       "4      NaN  \n",
       "\n",
       "[5 rows x 39 columns]"
      ]
     },
     "execution_count": 93,
     "metadata": {},
     "output_type": "execute_result"
    }
   ],
   "source": [
    "df5 = pd.read_csv('TB_burden_countries_2014-09-29.csv')\n",
    "df5.head(5)"
   ]
  },
  {
   "cell_type": "code",
   "execution_count": null,
   "id": "ea22f57a",
   "metadata": {},
   "outputs": [],
   "source": [
    "# 2.You may need to replace missing values before you start."
   ]
  },
  {
   "cell_type": "code",
   "execution_count": 94,
   "id": "cb5e2712",
   "metadata": {},
   "outputs": [
    {
     "data": {
      "text/plain": [
       "country                        0\n",
       "iso2                          23\n",
       "iso3                           0\n",
       "iso_numeric                    0\n",
       "g_whoregion                    0\n",
       "year                           0\n",
       "e_pop_num                      0\n",
       "e_prev_100k                   11\n",
       "e_prev_100k_lo                11\n",
       "e_prev_100k_hi                11\n",
       "e_prev_num                    11\n",
       "e_prev_num_lo                 11\n",
       "e_prev_num_hi                 11\n",
       "e_mort_exc_tbhiv_100k          1\n",
       "e_mort_exc_tbhiv_100k_lo       1\n",
       "e_mort_exc_tbhiv_100k_hi       1\n",
       "e_mort_exc_tbhiv_num           1\n",
       "e_mort_exc_tbhiv_num_lo        1\n",
       "e_mort_exc_tbhiv_num_hi        1\n",
       "source_mort                    1\n",
       "e_inc_100k                     1\n",
       "e_inc_100k_lo                  1\n",
       "e_inc_100k_hi                  1\n",
       "e_inc_num                      1\n",
       "e_inc_num_lo                   1\n",
       "e_inc_num_hi                   1\n",
       "e_tbhiv_prct                1250\n",
       "e_tbhiv_prct_lo             1446\n",
       "e_tbhiv_prct_hi             1446\n",
       "e_inc_tbhiv_100k            1306\n",
       "e_inc_tbhiv_100k_lo         1306\n",
       "e_inc_tbhiv_100k_hi         1306\n",
       "e_inc_tbhiv_num             1306\n",
       "e_inc_tbhiv_num_lo          1306\n",
       "e_inc_tbhiv_num_hi          1306\n",
       "source_tbhiv                   1\n",
       "c_cdr                        427\n",
       "c_cdr_lo                     427\n",
       "c_cdr_hi                     427\n",
       "dtype: int64"
      ]
     },
     "execution_count": 94,
     "metadata": {},
     "output_type": "execute_result"
    }
   ],
   "source": [
    "df5.isnull().sum()"
   ]
  },
  {
   "cell_type": "code",
   "execution_count": null,
   "id": "bc5bbd5b",
   "metadata": {},
   "outputs": [],
   "source": []
  },
  {
   "cell_type": "code",
   "execution_count": null,
   "id": "a4335091",
   "metadata": {},
   "outputs": [],
   "source": [
    "#3.Choose a number of columns with different shapes, for instance, \"e_prev_100k_hi\" is right skewed and visualise on an histogram"
   ]
  },
  {
   "cell_type": "code",
   "execution_count": 95,
   "id": "c38d5ce5",
   "metadata": {},
   "outputs": [
    {
     "data": {
      "image/png": "[encoded data removed]",
      "text/plain": [
       "<Figure size 432x288 with 1 Axes>"
      ]
     },
     "metadata": {
      "needs_background": "light"
     },
     "output_type": "display_data"
    }
   ],
   "source": [
    "# e_prev_100k_hi Histogram\n",
    "e_prev_100k_hi = df5.e_prev_100k_hi.hist()"
   ]
  },
  {
   "cell_type": "code",
   "execution_count": 96,
   "id": "dd79c90d",
   "metadata": {},
   "outputs": [
    {
     "data": {
      "image/png": "[encoded data removed]",
      "text/plain": [
       "<Figure size 432x288 with 1 Axes>"
      ]
     },
     "metadata": {
      "needs_background": "light"
     },
     "output_type": "display_data"
    }
   ],
   "source": [
    "# e_mort_exc_tbhiv_100k_lo Histogram\n",
    "e_mort_exc_tbhiv_100k_lo = df5.e_mort_exc_tbhiv_100k_lo.hist()"
   ]
  },
  {
   "cell_type": "code",
   "execution_count": 97,
   "id": "73a90dea",
   "metadata": {},
   "outputs": [
    {
     "data": {
      "image/png": "[encoded data removed]",
      "text/plain": [
       "<Figure size 432x288 with 1 Axes>"
      ]
     },
     "metadata": {
      "needs_background": "light"
     },
     "output_type": "display_data"
    }
   ],
   "source": [
    "# e_inc_tbhiv_num_hi Histogram\n",
    "e_inc_tbhiv_num_hi =df5.e_inc_tbhiv_num_hi.hist()"
   ]
  },
  {
   "cell_type": "code",
   "execution_count": 98,
   "id": "eda43159",
   "metadata": {},
   "outputs": [
    {
     "data": {
      "image/png": "[encoded data removed]",
      "text/plain": [
       "<Figure size 432x288 with 1 Axes>"
      ]
     },
     "metadata": {
      "needs_background": "light"
     },
     "output_type": "display_data"
    }
   ],
   "source": [
    "# e_mort_exc_tbhiv_num_lo   Histogram\n",
    "e_mort_exc_tbhiv_num_lo  = df5.e_mort_exc_tbhiv_num_lo.hist()\n"
   ]
  },
  {
   "cell_type": "code",
   "execution_count": null,
   "id": "a225ee65",
   "metadata": {},
   "outputs": [],
   "source": [
    "# 4.Apply a log transformation on the data. Numpy has a log function. and visualise. Observe the changes"
   ]
  },
  {
   "cell_type": "code",
   "execution_count": 101,
   "id": "be97b147",
   "metadata": {},
   "outputs": [
    {
     "data": {
      "text/plain": [
       "0       6.484635\n",
       "1       6.418365\n",
       "2       6.541030\n",
       "3       6.584791\n",
       "4       6.621406\n",
       "          ...   \n",
       "4898    7.113142\n",
       "4899    7.083388\n",
       "4900    7.035269\n",
       "4901    7.009409\n",
       "4902    6.941190\n",
       "Name: e_prev_100k_hi, Length: 4903, dtype: float64"
      ]
     },
     "execution_count": 101,
     "metadata": {},
     "output_type": "execute_result"
    }
   ],
   "source": [
    "df6 = np.log(df5.e_prev_100k_hi)\n",
    "df6"
   ]
  },
  {
   "cell_type": "code",
   "execution_count": 103,
   "id": "73622a89",
   "metadata": {},
   "outputs": [
    {
     "data": {
      "text/plain": [
       "<AxesSubplot:>"
      ]
     },
     "execution_count": 103,
     "metadata": {},
     "output_type": "execute_result"
    },
    {
     "data": {
      "image/png": "[encoded data removed]",
      "text/plain": [
       "<Figure size 432x288 with 1 Axes>"
      ]
     },
     "metadata": {
      "needs_background": "light"
     },
     "output_type": "display_data"
    }
   ],
   "source": [
    "df6.hist()"
   ]
  },
  {
   "cell_type": "code",
   "execution_count": null,
   "id": "ad971eeb",
   "metadata": {},
   "outputs": [],
   "source": [
    "# 6.Choose the numerical columns and map all the columns to [0,1] interval"
   ]
  },
  {
   "cell_type": "code",
   "execution_count": 110,
   "id": "d74ba49b",
   "metadata": {},
   "outputs": [
    {
     "data": {
      "text/html": [
       "<div>\n",
       "<style scoped>\n",
       "    .dataframe tbody tr th:only-of-type {\n",
       "        vertical-align: middle;\n",
       "    }\n",
       "\n",
       "    .dataframe tbody tr th {\n",
       "        vertical-align: top;\n",
       "    }\n",
       "\n",
       "    .dataframe thead th {\n",
       "        text-align: right;\n",
       "    }\n",
       "</style>\n",
       "<table border=\"1\" class=\"dataframe\">\n",
       "  <thead>\n",
       "    <tr style=\"text-align: right;\">\n",
       "      <th></th>\n",
       "      <th>e_pop_num</th>\n",
       "      <th>e_prev_100k</th>\n",
       "      <th>e_prev_100k_lo</th>\n",
       "      <th>e_prev_100k_hi</th>\n",
       "      <th>e_prev_num</th>\n",
       "      <th>e_prev_num_lo</th>\n",
       "      <th>e_prev_num_hi</th>\n",
       "      <th>e_mort_exc_tbhiv_100k</th>\n",
       "    </tr>\n",
       "  </thead>\n",
       "  <tbody>\n",
       "    <tr>\n",
       "      <th>0</th>\n",
       "      <td>11731193.0</td>\n",
       "      <td>327.0</td>\n",
       "      <td>112.0</td>\n",
       "      <td>655.0</td>\n",
       "      <td>38000.0</td>\n",
       "      <td>13000.0</td>\n",
       "      <td>77000.0</td>\n",
       "      <td>31.0</td>\n",
       "    </tr>\n",
       "    <tr>\n",
       "      <th>1</th>\n",
       "      <td>12612043.0</td>\n",
       "      <td>359.0</td>\n",
       "      <td>172.0</td>\n",
       "      <td>613.0</td>\n",
       "      <td>45000.0</td>\n",
       "      <td>22000.0</td>\n",
       "      <td>77000.0</td>\n",
       "      <td>35.0</td>\n",
       "    </tr>\n",
       "    <tr>\n",
       "      <th>2</th>\n",
       "      <td>13811876.0</td>\n",
       "      <td>387.0</td>\n",
       "      <td>169.0</td>\n",
       "      <td>693.0</td>\n",
       "      <td>53000.0</td>\n",
       "      <td>23000.0</td>\n",
       "      <td>96000.0</td>\n",
       "      <td>39.0</td>\n",
       "    </tr>\n",
       "    <tr>\n",
       "      <th>3</th>\n",
       "      <td>15175325.0</td>\n",
       "      <td>412.0</td>\n",
       "      <td>186.0</td>\n",
       "      <td>724.0</td>\n",
       "      <td>62000.0</td>\n",
       "      <td>28000.0</td>\n",
       "      <td>110000.0</td>\n",
       "      <td>42.0</td>\n",
       "    </tr>\n",
       "    <tr>\n",
       "      <th>4</th>\n",
       "      <td>16485018.0</td>\n",
       "      <td>431.0</td>\n",
       "      <td>199.0</td>\n",
       "      <td>751.0</td>\n",
       "      <td>71000.0</td>\n",
       "      <td>33000.0</td>\n",
       "      <td>120000.0</td>\n",
       "      <td>46.0</td>\n",
       "    </tr>\n",
       "    <tr>\n",
       "      <th>...</th>\n",
       "      <td>...</td>\n",
       "      <td>...</td>\n",
       "      <td>...</td>\n",
       "      <td>...</td>\n",
       "      <td>...</td>\n",
       "      <td>...</td>\n",
       "      <td>...</td>\n",
       "      <td>...</td>\n",
       "    </tr>\n",
       "    <tr>\n",
       "      <th>4898</th>\n",
       "      <td>12784041.0</td>\n",
       "      <td>445.0</td>\n",
       "      <td>56.0</td>\n",
       "      <td>1228.0</td>\n",
       "      <td>57000.0</td>\n",
       "      <td>7100.0</td>\n",
       "      <td>160000.0</td>\n",
       "      <td>29.0</td>\n",
       "    </tr>\n",
       "    <tr>\n",
       "      <th>4899</th>\n",
       "      <td>12888918.0</td>\n",
       "      <td>423.0</td>\n",
       "      <td>49.0</td>\n",
       "      <td>1192.0</td>\n",
       "      <td>55000.0</td>\n",
       "      <td>6300.0</td>\n",
       "      <td>150000.0</td>\n",
       "      <td>28.0</td>\n",
       "    </tr>\n",
       "    <tr>\n",
       "      <th>4900</th>\n",
       "      <td>13076978.0</td>\n",
       "      <td>438.0</td>\n",
       "      <td>70.0</td>\n",
       "      <td>1136.0</td>\n",
       "      <td>57000.0</td>\n",
       "      <td>9100.0</td>\n",
       "      <td>150000.0</td>\n",
       "      <td>31.0</td>\n",
       "    </tr>\n",
       "    <tr>\n",
       "      <th>4901</th>\n",
       "      <td>13358738.0</td>\n",
       "      <td>458.0</td>\n",
       "      <td>93.0</td>\n",
       "      <td>1107.0</td>\n",
       "      <td>61000.0</td>\n",
       "      <td>12000.0</td>\n",
       "      <td>150000.0</td>\n",
       "      <td>35.0</td>\n",
       "    </tr>\n",
       "    <tr>\n",
       "      <th>4902</th>\n",
       "      <td>13724317.0</td>\n",
       "      <td>433.0</td>\n",
       "      <td>92.0</td>\n",
       "      <td>1034.0</td>\n",
       "      <td>59000.0</td>\n",
       "      <td>13000.0</td>\n",
       "      <td>140000.0</td>\n",
       "      <td>33.0</td>\n",
       "    </tr>\n",
       "  </tbody>\n",
       "</table>\n",
       "<p>4903 rows × 8 columns</p>\n",
       "</div>"
      ],
      "text/plain": [
       "       e_pop_num  e_prev_100k  e_prev_100k_lo  e_prev_100k_hi  e_prev_num  \\\n",
       "0     11731193.0        327.0           112.0           655.0     38000.0   \n",
       "1     12612043.0        359.0           172.0           613.0     45000.0   \n",
       "2     13811876.0        387.0           169.0           693.0     53000.0   \n",
       "3     15175325.0        412.0           186.0           724.0     62000.0   \n",
       "4     16485018.0        431.0           199.0           751.0     71000.0   \n",
       "...          ...          ...             ...             ...         ...   \n",
       "4898  12784041.0        445.0            56.0          1228.0     57000.0   \n",
       "4899  12888918.0        423.0            49.0          1192.0     55000.0   \n",
       "4900  13076978.0        438.0            70.0          1136.0     57000.0   \n",
       "4901  13358738.0        458.0            93.0          1107.0     61000.0   \n",
       "4902  13724317.0        433.0            92.0          1034.0     59000.0   \n",
       "\n",
       "      e_prev_num_lo  e_prev_num_hi  e_mort_exc_tbhiv_100k  \n",
       "0           13000.0        77000.0                   31.0  \n",
       "1           22000.0        77000.0                   35.0  \n",
       "2           23000.0        96000.0                   39.0  \n",
       "3           28000.0       110000.0                   42.0  \n",
       "4           33000.0       120000.0                   46.0  \n",
       "...             ...            ...                    ...  \n",
       "4898         7100.0       160000.0                   29.0  \n",
       "4899         6300.0       150000.0                   28.0  \n",
       "4900         9100.0       150000.0                   31.0  \n",
       "4901        12000.0       150000.0                   35.0  \n",
       "4902        13000.0       140000.0                   33.0  \n",
       "\n",
       "[4903 rows x 8 columns]"
      ]
     },
     "execution_count": 110,
     "metadata": {},
     "output_type": "execute_result"
    }
   ],
   "source": [
    "df7 = df5.loc[:,'e_pop_num':'e_mort_exc_tbhiv_100k'].applymap(float)\n",
    "df7"
   ]
  },
  {
   "cell_type": "code",
   "execution_count": 111,
   "id": "6cea7853",
   "metadata": {},
   "outputs": [
    {
     "data": {
      "text/plain": [
       "e_pop_num                2.899179e+07\n",
       "e_prev_100k              2.076944e+02\n",
       "e_prev_100k_lo           9.368330e+01\n",
       "e_prev_100k_hi           3.781370e+02\n",
       "e_prev_num               6.914368e+04\n",
       "e_prev_num_lo            4.366106e+04\n",
       "e_prev_num_hi            1.064607e+05\n",
       "e_mort_exc_tbhiv_100k    1.624542e+01\n",
       "dtype: float64"
      ]
     },
     "execution_count": 111,
     "metadata": {},
     "output_type": "execute_result"
    }
   ],
   "source": [
    "df7.mean()"
   ]
  },
  {
   "cell_type": "code",
   "execution_count": null,
   "id": "1ad1183b",
   "metadata": {},
   "outputs": [],
   "source": []
  }
 ],
 "metadata": {
  "kernelspec": {
   "display_name": "Python 3",
   "language": "python",
   "name": "python3"
  },
  "language_info": {
   "codemirror_mode": {
    "name": "ipython",
    "version": 3
   },
   "file_extension": ".py",
   "mimetype": "text/x-python",
   "name": "python",
   "nbconvert_exporter": "python",
   "pygments_lexer": "ipython3",
   "version": "3.8.8"
  }
 },
 "nbformat": 4,
 "nbformat_minor": 5
}
